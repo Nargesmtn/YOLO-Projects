{
  "nbformat": 4,
  "nbformat_minor": 0,
  "metadata": {
    "colab": {
      "provenance": []
    },
    "kernelspec": {
      "name": "python3",
      "display_name": "Python 3"
    },
    "language_info": {
      "name": "python"
    },
    "accelerator": "GPU",
    "gpuClass": "standard"
  },
  "cells": [
    {
      "cell_type": "markdown",
      "source": [
        "# YOLOv8 Classification\n"
      ],
      "metadata": {
        "id": "zLm2kxYSA-SQ"
      }
    },
    {
      "cell_type": "markdown",
      "source": [
        "## Mount Google Drive and Install YOLOv8"
      ],
      "metadata": {
        "id": "RmZSjFp8BA0J"
      }
    },
    {
      "cell_type": "code",
      "execution_count": null,
      "metadata": {
        "id": "gaTLknjEA2Mb"
      },
      "outputs": [],
      "source": [
        "# Mount Google Drive\n",
        "from google.colab import drive\n",
        "drive.mount('/content/gdrive')"
      ]
    },
    {
      "cell_type": "code",
      "source": [
        "# Access Google Drive Folder\n",
        "import os\n",
        "os.chdir(\"gdrive/MyDrive\")"
      ],
      "metadata": {
        "id": "uXRo1R-RBIef"
      },
      "execution_count": null,
      "outputs": []
    },
    {
      "cell_type": "code",
      "source": [
        "# Create YOLOv8 root folder\n",
        "!mkdir yolov8-classification"
      ],
      "metadata": {
        "id": "_E0FzRIiBKD-"
      },
      "execution_count": null,
      "outputs": []
    },
    {
      "cell_type": "code",
      "source": [
        "# Go to YOLOv8 Classification root folder\n",
        "%cd yolov8-classification"
      ],
      "metadata": {
        "id": "0fMJkrPvBNGA"
      },
      "execution_count": null,
      "outputs": []
    },
    {
      "cell_type": "code",
      "source": [
        "# Install YOLOv8\n",
        "%pip install ultralytics\n",
        "\n",
        "import ultralytics\n",
        "ultralytics.checks()"
      ],
      "metadata": {
        "id": "t7s5-df4BPyd"
      },
      "execution_count": null,
      "outputs": []
    },
    {
      "cell_type": "markdown",
      "source": [
        "## Classification"
      ],
      "metadata": {
        "id": "ywvPF0xJB0ix"
      }
    },
    {
      "cell_type": "code",
      "source": [
        "# Download YOLOv8 Classification models\n",
        "!wget https://github.com/ultralytics/assets/releases/download/v0.0.0/yolov8l-cls.pt"
      ],
      "metadata": {
        "id": "d_cPZwp2Bq6E"
      },
      "execution_count": null,
      "outputs": []
    },
    {
      "cell_type": "code",
      "source": [
        "# Create inference folder\n",
        "!mkdir inference"
      ],
      "metadata": {
        "id": "Z-4ukercB-9b"
      },
      "execution_count": null,
      "outputs": []
    },
    {
      "cell_type": "code",
      "source": [
        "# Go to inference folder\n",
        "%cd inference"
      ],
      "metadata": {
        "id": "s92dmyHuCA8D"
      },
      "execution_count": null,
      "outputs": []
    },
    {
      "cell_type": "code",
      "source": [
        "# Download image\n",
        "!gdown https://drive.google.com/uc?id=1sH9PEqJHQSjorz7a_9gAnHlP-v_uJV3f"
      ],
      "metadata": {
        "id": "49vEJiMNCIW6"
      },
      "execution_count": null,
      "outputs": []
    },
    {
      "cell_type": "code",
      "source": [
        "# Download video\n",
        "!gdown https://drive.google.com/uc?id=1SGcbLIrvhpRRj4Xk7SNNVYxqQTWFtNjP"
      ],
      "metadata": {
        "id": "IxAP_D8xCLWW"
      },
      "execution_count": null,
      "outputs": []
    },
    {
      "cell_type": "code",
      "source": [
        "# Go to root folder\n",
        "%cd ../"
      ],
      "metadata": {
        "id": "M7r0koo5DD3a"
      },
      "execution_count": null,
      "outputs": []
    },
    {
      "cell_type": "code",
      "source": [
        "# Function to show Image\n",
        "import matplotlib.pyplot as plt\n",
        "import matplotlib.image as mpimg\n",
        "\n",
        "def showImage(path):\n",
        "  img = mpimg.imread(path)\n",
        "  plt.figure(figsize=(10,10))\n",
        "  plt.axis(\"off\")\n",
        "  plt.imshow(img)\n",
        "  plt.show()"
      ],
      "metadata": {
        "id": "2JdvxUo2C5k-"
      },
      "execution_count": null,
      "outputs": []
    },
    {
      "cell_type": "code",
      "source": [
        "# Classification on the image\n",
        "!yolo classify predict model=yolov8l-cls.pt source=\"inference/bee.png\" save=True"
      ],
      "metadata": {
        "id": "3jnZEpNYDJ_K"
      },
      "execution_count": null,
      "outputs": []
    },
    {
      "cell_type": "code",
      "source": [
        "# Show Classification Result\n",
        "showImage(\"runs/classify/predict/bee.png\")"
      ],
      "metadata": {
        "id": "XdAOOroEC6oC"
      },
      "execution_count": null,
      "outputs": []
    },
    {
      "cell_type": "code",
      "source": [
        "# Classification on the video\n",
        "!yolo classify predict model=yolov8l-cls.pt source=\"inference/volleyball.mp4\" save=True"
      ],
      "metadata": {
        "id": "v2w-fVJeDQL_"
      },
      "execution_count": null,
      "outputs": []
    },
    {
      "cell_type": "markdown",
      "source": [
        "# Training"
      ],
      "metadata": {
        "id": "HiNtiugAL5oV"
      }
    },
    {
      "cell_type": "markdown",
      "source": [
        "## Mount Google Drive and Install YOLOv8"
      ],
      "metadata": {
        "id": "OWBM8-iTL7kz"
      }
    },
    {
      "cell_type": "code",
      "source": [
        "# Mount Google Drive\n",
        "from google.colab import drive\n",
        "drive.mount('/content/gdrive')"
      ],
      "metadata": {
        "id": "IAJ4YTC1L7VH"
      },
      "execution_count": null,
      "outputs": []
    },
    {
      "cell_type": "code",
      "source": [
        "# Access YOLOv8 root folder\n",
        "import os\n",
        "os.chdir(\"gdrive/MyDrive/yolov8-classification\")"
      ],
      "metadata": {
        "id": "vNQkVGiKMCMb"
      },
      "execution_count": null,
      "outputs": []
    },
    {
      "cell_type": "code",
      "source": [
        "# Install YOLOv8\n",
        "%pip install ultralytics\n",
        "\n",
        "import ultralytics\n",
        "ultralytics.checks()"
      ],
      "metadata": {
        "id": "ahuPLG7JMEgt"
      },
      "execution_count": null,
      "outputs": []
    },
    {
      "cell_type": "markdown",
      "source": [
        "## Dataset"
      ],
      "metadata": {
        "id": "HEQVVm-pMGA_"
      }
    },
    {
      "cell_type": "code",
      "source": [
        "# Check Dataset\n",
        "!ls data/"
      ],
      "metadata": {
        "id": "nCR-Jp0kMIUY"
      },
      "execution_count": null,
      "outputs": []
    },
    {
      "cell_type": "code",
      "source": [
        "# Unzip Dataset\n",
        "!unzip data/weather_dataset.zip -d ./data"
      ],
      "metadata": {
        "id": "Dd_7KtZHMIq5"
      },
      "execution_count": null,
      "outputs": []
    },
    {
      "cell_type": "code",
      "source": [
        "# Check Dataset\n",
        "!ls data/"
      ],
      "metadata": {
        "id": "5doOS8mZMKJS"
      },
      "execution_count": null,
      "outputs": []
    },
    {
      "cell_type": "markdown",
      "source": [
        "## Training Process"
      ],
      "metadata": {
        "id": "htwK0x05MNIJ"
      }
    },
    {
      "cell_type": "code",
      "source": [
        "# Get Absolute Path\n",
        "import os\n",
        "\n",
        "print(os.getcwd())"
      ],
      "metadata": {
        "id": "f7VJh-wnMPuz"
      },
      "execution_count": null,
      "outputs": []
    },
    {
      "cell_type": "code",
      "source": [
        "# Train\n",
        "!yolo classify train model=yolov8l-cls.pt data=/content/gdrive/MyDrive/yolov8-classification/data/weather_dataset imgsz=224 workers=8 batch=16 device=0 epochs=100 patience=50 name=yolov8_weather_classification"
      ],
      "metadata": {
        "id": "xpCIkbqGMRks"
      },
      "execution_count": null,
      "outputs": []
    },
    {
      "cell_type": "code",
      "source": [
        "# See the accuracy\n",
        "%load_ext tensorboard\n",
        "\n",
        "%tensorboard --logdir runs/classify/yolov8_weather_classification"
      ],
      "metadata": {
        "id": "Ze-yb6MTMUhV"
      },
      "execution_count": null,
      "outputs": []
    },
    {
      "cell_type": "markdown",
      "source": [
        "## Continue Training"
      ],
      "metadata": {
        "id": "LS-iytJ7MXTx"
      }
    },
    {
      "cell_type": "code",
      "source": [
        "# Train\n",
        "!yolo classify train model=runs/classify/yolov8_weather_classification/weights/last.pt resume=True"
      ],
      "metadata": {
        "id": "tEYwJZRdMZmw"
      },
      "execution_count": null,
      "outputs": []
    },
    {
      "cell_type": "code",
      "source": [
        "# See the accuracy\n",
        "%load_ext tensorboard\n",
        "\n",
        "%tensorboard --logdir runs/classify/yolov8_weather_classification"
      ],
      "metadata": {
        "id": "SHo2xzvXMZ9A"
      },
      "execution_count": null,
      "outputs": []
    },
    {
      "cell_type": "markdown",
      "source": [
        "## Weather Classification"
      ],
      "metadata": {
        "id": "dNXysu8YMdHz"
      }
    },
    {
      "cell_type": "code",
      "source": [
        "# Download image\n",
        "!gdown https://drive.google.com/uc?id=1rCcNcHkqD_LFGI_915cCjRIRkFlPJBB-"
      ],
      "metadata": {
        "id": "loA01-iKMfn9"
      },
      "execution_count": null,
      "outputs": []
    },
    {
      "cell_type": "code",
      "source": [
        "# Move images to inference folder\n",
        "!mv weather.png inference/"
      ],
      "metadata": {
        "id": "vqp2o12-MjVf"
      },
      "execution_count": null,
      "outputs": []
    },
    {
      "cell_type": "code",
      "source": [
        "# Classification on the image\n",
        "!yolo predict model=runs/classify/yolov8_weather_classification/weights/best.pt source=\"inference/weather.png\" save=True"
      ],
      "metadata": {
        "id": "DyX_ZzdZMlQp"
      },
      "execution_count": null,
      "outputs": []
    },
    {
      "cell_type": "code",
      "source": [
        "# Function to show Image\n",
        "import matplotlib.pyplot as plt\n",
        "import matplotlib.image as mpimg\n",
        "\n",
        "def showImage(path):\n",
        "  img = mpimg.imread(path)\n",
        "  plt.figure(figsize=(10,10))\n",
        "  plt.axis(\"off\")\n",
        "  plt.imshow(img)\n",
        "  plt.show()"
      ],
      "metadata": {
        "id": "6vObbNPkMmzF"
      },
      "execution_count": null,
      "outputs": []
    },
    {
      "cell_type": "code",
      "source": [
        "# Show Detection Result\n",
        "showImage(\"runs/classify/predict3/weather.png\")"
      ],
      "metadata": {
        "id": "wCuZDJ4DMoRf"
      },
      "execution_count": null,
      "outputs": []
    }
  ]
}